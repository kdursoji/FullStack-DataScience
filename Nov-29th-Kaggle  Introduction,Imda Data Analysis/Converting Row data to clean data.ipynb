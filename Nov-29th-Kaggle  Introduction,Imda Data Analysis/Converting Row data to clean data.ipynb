{
 "cells": [
  {
   "cell_type": "code",
   "execution_count": 43,
   "id": "e2d4b47b-c4c9-438a-903f-358349aba067",
   "metadata": {},
   "outputs": [],
   "source": [
    "import pandas as pd"
   ]
  },
  {
   "cell_type": "code",
   "execution_count": 44,
   "id": "33e85adf-d923-4847-b1cd-7ff044807950",
   "metadata": {},
   "outputs": [],
   "source": [
    "df = pd.read_excel(r'E:\\New folder\\TASK -- convert raw data - clean data.xlsx')"
   ]
  },
  {
   "cell_type": "code",
   "execution_count": 45,
   "id": "6e44d9c6-9e97-4ee2-bef3-04cfb157cf47",
   "metadata": {},
   "outputs": [
    {
     "data": {
      "text/html": [
       "<div>\n",
       "<style scoped>\n",
       "    .dataframe tbody tr th:only-of-type {\n",
       "        vertical-align: middle;\n",
       "    }\n",
       "\n",
       "    .dataframe tbody tr th {\n",
       "        vertical-align: top;\n",
       "    }\n",
       "\n",
       "    .dataframe thead th {\n",
       "        text-align: right;\n",
       "    }\n",
       "</style>\n",
       "<table border=\"1\" class=\"dataframe\">\n",
       "  <thead>\n",
       "    <tr style=\"text-align: right;\">\n",
       "      <th></th>\n",
       "      <th>ADDR</th>\n",
       "      <th>DT</th>\n",
       "      <th>NAME</th>\n",
       "      <th>time</th>\n",
       "    </tr>\n",
       "  </thead>\n",
       "  <tbody>\n",
       "    <tr>\n",
       "      <th>0</th>\n",
       "      <td>45 rd, kenith street, btm, bangalore 500038</td>\n",
       "      <td>2022-04-03</td>\n",
       "      <td>abc</td>\n",
       "      <td>8:30:21</td>\n",
       "    </tr>\n",
       "    <tr>\n",
       "      <th>1</th>\n",
       "      <td>45 rd,  street, hitech, Hd 500038</td>\n",
       "      <td>2022-04-02</td>\n",
       "      <td>dec</td>\n",
       "      <td>5:30:21</td>\n",
       "    </tr>\n",
       "  </tbody>\n",
       "</table>\n",
       "</div>"
      ],
      "text/plain": [
       "                                          ADDR         DT NAME     time\n",
       "0  45 rd, kenith street, btm, bangalore 500038 2022-04-03  abc  8:30:21\n",
       "1            45 rd,  street, hitech, Hd 500038 2022-04-02  dec  5:30:21"
      ]
     },
     "execution_count": 45,
     "metadata": {},
     "output_type": "execute_result"
    }
   ],
   "source": [
    "df"
   ]
  },
  {
   "cell_type": "code",
   "execution_count": 46,
   "id": "53f88a00-931c-4dd0-b3f3-d4d84bf65448",
   "metadata": {},
   "outputs": [
    {
     "data": {
      "text/plain": [
       "0    45 rd, kenith street, btm, bangalore 500038\n",
       "1              45 rd,  street, hitech, Hd 500038\n",
       "Name: ADDR, dtype: object"
      ]
     },
     "execution_count": 46,
     "metadata": {},
     "output_type": "execute_result"
    }
   ],
   "source": [
    "df['ADDR']"
   ]
  },
  {
   "cell_type": "code",
   "execution_count": 47,
   "id": "eea04e9f-b395-4cdd-b28f-ff4713e3e568",
   "metadata": {},
   "outputs": [],
   "source": [
    "df[['HouseNO', 'Locality', 'City', 'PIN']] = df['ADDR'].str.extract(r'^(.*?),\\s*(.*?),\\s*(.*?)(?:,?\\s*(\\d{6}))?$')\n"
   ]
  },
  {
   "cell_type": "code",
   "execution_count": 48,
   "id": "ec931f99-7802-4035-b096-a965447693fe",
   "metadata": {},
   "outputs": [
    {
     "data": {
      "text/html": [
       "<div>\n",
       "<style scoped>\n",
       "    .dataframe tbody tr th:only-of-type {\n",
       "        vertical-align: middle;\n",
       "    }\n",
       "\n",
       "    .dataframe tbody tr th {\n",
       "        vertical-align: top;\n",
       "    }\n",
       "\n",
       "    .dataframe thead th {\n",
       "        text-align: right;\n",
       "    }\n",
       "</style>\n",
       "<table border=\"1\" class=\"dataframe\">\n",
       "  <thead>\n",
       "    <tr style=\"text-align: right;\">\n",
       "      <th></th>\n",
       "      <th>ADDR</th>\n",
       "      <th>DT</th>\n",
       "      <th>NAME</th>\n",
       "      <th>time</th>\n",
       "      <th>HouseNO</th>\n",
       "      <th>Locality</th>\n",
       "      <th>City</th>\n",
       "      <th>PIN</th>\n",
       "    </tr>\n",
       "  </thead>\n",
       "  <tbody>\n",
       "    <tr>\n",
       "      <th>0</th>\n",
       "      <td>45 rd, kenith street, btm, bangalore 500038</td>\n",
       "      <td>2022-04-03</td>\n",
       "      <td>abc</td>\n",
       "      <td>8:30:21</td>\n",
       "      <td>45 rd</td>\n",
       "      <td>kenith street</td>\n",
       "      <td>btm, bangalore</td>\n",
       "      <td>500038</td>\n",
       "    </tr>\n",
       "    <tr>\n",
       "      <th>1</th>\n",
       "      <td>45 rd,  street, hitech, Hd 500038</td>\n",
       "      <td>2022-04-02</td>\n",
       "      <td>dec</td>\n",
       "      <td>5:30:21</td>\n",
       "      <td>45 rd</td>\n",
       "      <td>street</td>\n",
       "      <td>hitech, Hd</td>\n",
       "      <td>500038</td>\n",
       "    </tr>\n",
       "  </tbody>\n",
       "</table>\n",
       "</div>"
      ],
      "text/plain": [
       "                                          ADDR         DT NAME     time  \\\n",
       "0  45 rd, kenith street, btm, bangalore 500038 2022-04-03  abc  8:30:21   \n",
       "1            45 rd,  street, hitech, Hd 500038 2022-04-02  dec  5:30:21   \n",
       "\n",
       "  HouseNO       Locality            City     PIN  \n",
       "0   45 rd  kenith street  btm, bangalore  500038  \n",
       "1   45 rd         street      hitech, Hd  500038  "
      ]
     },
     "execution_count": 48,
     "metadata": {},
     "output_type": "execute_result"
    }
   ],
   "source": [
    "df"
   ]
  },
  {
   "cell_type": "code",
   "execution_count": 49,
   "id": "e8de1c6d-8bca-4a76-8494-68d5908d151b",
   "metadata": {},
   "outputs": [
    {
     "data": {
      "text/plain": [
       "0   2022-04-03\n",
       "1   2022-04-02\n",
       "Name: DT, dtype: datetime64[ns]"
      ]
     },
     "execution_count": 49,
     "metadata": {},
     "output_type": "execute_result"
    }
   ],
   "source": [
    "df['DT']"
   ]
  },
  {
   "cell_type": "code",
   "execution_count": 50,
   "id": "c2003479-2fe0-4407-a9d4-6bad23aa4cad",
   "metadata": {},
   "outputs": [],
   "source": [
    "df['Year'] = df['DT'].dt.year\n",
    "df['Month'] = df['DT'].dt.month\n",
    "df['Day'] = df['DT'].dt.day"
   ]
  },
  {
   "cell_type": "code",
   "execution_count": 51,
   "id": "eee9e0df-a254-4219-8ceb-81fe1ca4514b",
   "metadata": {},
   "outputs": [
    {
     "data": {
      "text/html": [
       "<div>\n",
       "<style scoped>\n",
       "    .dataframe tbody tr th:only-of-type {\n",
       "        vertical-align: middle;\n",
       "    }\n",
       "\n",
       "    .dataframe tbody tr th {\n",
       "        vertical-align: top;\n",
       "    }\n",
       "\n",
       "    .dataframe thead th {\n",
       "        text-align: right;\n",
       "    }\n",
       "</style>\n",
       "<table border=\"1\" class=\"dataframe\">\n",
       "  <thead>\n",
       "    <tr style=\"text-align: right;\">\n",
       "      <th></th>\n",
       "      <th>ADDR</th>\n",
       "      <th>DT</th>\n",
       "      <th>NAME</th>\n",
       "      <th>time</th>\n",
       "      <th>HouseNO</th>\n",
       "      <th>Locality</th>\n",
       "      <th>City</th>\n",
       "      <th>PIN</th>\n",
       "      <th>Year</th>\n",
       "      <th>Month</th>\n",
       "      <th>Day</th>\n",
       "    </tr>\n",
       "  </thead>\n",
       "  <tbody>\n",
       "    <tr>\n",
       "      <th>0</th>\n",
       "      <td>45 rd, kenith street, btm, bangalore 500038</td>\n",
       "      <td>2022-04-03</td>\n",
       "      <td>abc</td>\n",
       "      <td>8:30:21</td>\n",
       "      <td>45 rd</td>\n",
       "      <td>kenith street</td>\n",
       "      <td>btm, bangalore</td>\n",
       "      <td>500038</td>\n",
       "      <td>2022</td>\n",
       "      <td>4</td>\n",
       "      <td>3</td>\n",
       "    </tr>\n",
       "    <tr>\n",
       "      <th>1</th>\n",
       "      <td>45 rd,  street, hitech, Hd 500038</td>\n",
       "      <td>2022-04-02</td>\n",
       "      <td>dec</td>\n",
       "      <td>5:30:21</td>\n",
       "      <td>45 rd</td>\n",
       "      <td>street</td>\n",
       "      <td>hitech, Hd</td>\n",
       "      <td>500038</td>\n",
       "      <td>2022</td>\n",
       "      <td>4</td>\n",
       "      <td>2</td>\n",
       "    </tr>\n",
       "  </tbody>\n",
       "</table>\n",
       "</div>"
      ],
      "text/plain": [
       "                                          ADDR         DT NAME     time  \\\n",
       "0  45 rd, kenith street, btm, bangalore 500038 2022-04-03  abc  8:30:21   \n",
       "1            45 rd,  street, hitech, Hd 500038 2022-04-02  dec  5:30:21   \n",
       "\n",
       "  HouseNO       Locality            City     PIN  Year  Month  Day  \n",
       "0   45 rd  kenith street  btm, bangalore  500038  2022      4    3  \n",
       "1   45 rd         street      hitech, Hd  500038  2022      4    2  "
      ]
     },
     "execution_count": 51,
     "metadata": {},
     "output_type": "execute_result"
    }
   ],
   "source": [
    "df"
   ]
  },
  {
   "cell_type": "code",
   "execution_count": 52,
   "id": "1473155f-7c32-4b2c-a5c8-bd10d7055270",
   "metadata": {},
   "outputs": [
    {
     "data": {
      "text/plain": [
       "Index(['ADDR', 'DT', 'NAME', 'time', 'HouseNO', 'Locality', 'City', 'PIN',\n",
       "       'Year', 'Month', 'Day'],\n",
       "      dtype='object')"
      ]
     },
     "execution_count": 52,
     "metadata": {},
     "output_type": "execute_result"
    }
   ],
   "source": [
    "df.columns"
   ]
  },
  {
   "cell_type": "code",
   "execution_count": 56,
   "id": "01ac52de-2b0d-482d-b881-7d06d2c619d9",
   "metadata": {},
   "outputs": [],
   "source": [
    "df = df.drop(columns = ['ADDR'])"
   ]
  },
  {
   "cell_type": "code",
   "execution_count": 57,
   "id": "33ad6003-2c0a-4954-90c3-a2c21aa7dfe8",
   "metadata": {},
   "outputs": [
    {
     "data": {
      "text/html": [
       "<div>\n",
       "<style scoped>\n",
       "    .dataframe tbody tr th:only-of-type {\n",
       "        vertical-align: middle;\n",
       "    }\n",
       "\n",
       "    .dataframe tbody tr th {\n",
       "        vertical-align: top;\n",
       "    }\n",
       "\n",
       "    .dataframe thead th {\n",
       "        text-align: right;\n",
       "    }\n",
       "</style>\n",
       "<table border=\"1\" class=\"dataframe\">\n",
       "  <thead>\n",
       "    <tr style=\"text-align: right;\">\n",
       "      <th></th>\n",
       "      <th>DT</th>\n",
       "      <th>NAME</th>\n",
       "      <th>time</th>\n",
       "      <th>HouseNO</th>\n",
       "      <th>Locality</th>\n",
       "      <th>City</th>\n",
       "      <th>PIN</th>\n",
       "      <th>Year</th>\n",
       "      <th>Month</th>\n",
       "      <th>Day</th>\n",
       "    </tr>\n",
       "  </thead>\n",
       "  <tbody>\n",
       "    <tr>\n",
       "      <th>0</th>\n",
       "      <td>2022-04-03</td>\n",
       "      <td>abc</td>\n",
       "      <td>8:30:21</td>\n",
       "      <td>45 rd</td>\n",
       "      <td>kenith street</td>\n",
       "      <td>btm, bangalore</td>\n",
       "      <td>500038</td>\n",
       "      <td>2022</td>\n",
       "      <td>4</td>\n",
       "      <td>3</td>\n",
       "    </tr>\n",
       "    <tr>\n",
       "      <th>1</th>\n",
       "      <td>2022-04-02</td>\n",
       "      <td>dec</td>\n",
       "      <td>5:30:21</td>\n",
       "      <td>45 rd</td>\n",
       "      <td>street</td>\n",
       "      <td>hitech, Hd</td>\n",
       "      <td>500038</td>\n",
       "      <td>2022</td>\n",
       "      <td>4</td>\n",
       "      <td>2</td>\n",
       "    </tr>\n",
       "  </tbody>\n",
       "</table>\n",
       "</div>"
      ],
      "text/plain": [
       "          DT NAME     time HouseNO       Locality            City     PIN  \\\n",
       "0 2022-04-03  abc  8:30:21   45 rd  kenith street  btm, bangalore  500038   \n",
       "1 2022-04-02  dec  5:30:21   45 rd         street      hitech, Hd  500038   \n",
       "\n",
       "   Year  Month  Day  \n",
       "0  2022      4    3  \n",
       "1  2022      4    2  "
      ]
     },
     "execution_count": 57,
     "metadata": {},
     "output_type": "execute_result"
    }
   ],
   "source": [
    "df"
   ]
  },
  {
   "cell_type": "code",
   "execution_count": 62,
   "id": "c1f30d56-3d37-44f5-8016-3c7755db15c8",
   "metadata": {},
   "outputs": [],
   "source": [
    "df = df.drop(columns=['DT'])"
   ]
  },
  {
   "cell_type": "code",
   "execution_count": 63,
   "id": "ac13cd67-9897-4298-b767-40683ad964b7",
   "metadata": {},
   "outputs": [
    {
     "data": {
      "text/html": [
       "<div>\n",
       "<style scoped>\n",
       "    .dataframe tbody tr th:only-of-type {\n",
       "        vertical-align: middle;\n",
       "    }\n",
       "\n",
       "    .dataframe tbody tr th {\n",
       "        vertical-align: top;\n",
       "    }\n",
       "\n",
       "    .dataframe thead th {\n",
       "        text-align: right;\n",
       "    }\n",
       "</style>\n",
       "<table border=\"1\" class=\"dataframe\">\n",
       "  <thead>\n",
       "    <tr style=\"text-align: right;\">\n",
       "      <th></th>\n",
       "      <th>NAME</th>\n",
       "      <th>time</th>\n",
       "      <th>HouseNO</th>\n",
       "      <th>Locality</th>\n",
       "      <th>City</th>\n",
       "      <th>PIN</th>\n",
       "      <th>Year</th>\n",
       "      <th>Month</th>\n",
       "      <th>Day</th>\n",
       "    </tr>\n",
       "  </thead>\n",
       "  <tbody>\n",
       "    <tr>\n",
       "      <th>0</th>\n",
       "      <td>abc</td>\n",
       "      <td>8:30:21</td>\n",
       "      <td>45 rd</td>\n",
       "      <td>kenith street</td>\n",
       "      <td>btm, bangalore</td>\n",
       "      <td>500038</td>\n",
       "      <td>2022</td>\n",
       "      <td>4</td>\n",
       "      <td>3</td>\n",
       "    </tr>\n",
       "    <tr>\n",
       "      <th>1</th>\n",
       "      <td>dec</td>\n",
       "      <td>5:30:21</td>\n",
       "      <td>45 rd</td>\n",
       "      <td>street</td>\n",
       "      <td>hitech, Hd</td>\n",
       "      <td>500038</td>\n",
       "      <td>2022</td>\n",
       "      <td>4</td>\n",
       "      <td>2</td>\n",
       "    </tr>\n",
       "  </tbody>\n",
       "</table>\n",
       "</div>"
      ],
      "text/plain": [
       "  NAME     time HouseNO       Locality            City     PIN  Year  Month  \\\n",
       "0  abc  8:30:21   45 rd  kenith street  btm, bangalore  500038  2022      4   \n",
       "1  dec  5:30:21   45 rd         street      hitech, Hd  500038  2022      4   \n",
       "\n",
       "   Day  \n",
       "0    3  \n",
       "1    2  "
      ]
     },
     "execution_count": 63,
     "metadata": {},
     "output_type": "execute_result"
    }
   ],
   "source": [
    "df"
   ]
  },
  {
   "cell_type": "code",
   "execution_count": null,
   "id": "acc9f18b-4864-48b9-ba1b-f77ba1e63b54",
   "metadata": {},
   "outputs": [],
   "source": []
  }
 ],
 "metadata": {
  "kernelspec": {
   "display_name": "Python 3 (ipykernel)",
   "language": "python",
   "name": "python3"
  },
  "language_info": {
   "codemirror_mode": {
    "name": "ipython",
    "version": 3
   },
   "file_extension": ".py",
   "mimetype": "text/x-python",
   "name": "python",
   "nbconvert_exporter": "python",
   "pygments_lexer": "ipython3",
   "version": "3.12.4"
  }
 },
 "nbformat": 4,
 "nbformat_minor": 5
}
